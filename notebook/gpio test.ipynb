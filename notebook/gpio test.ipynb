{
 "cells": [
  {
   "cell_type": "markdown",
   "id": "c18cf217",
   "metadata": {},
   "source": [
    "# LED Control using GPIO\n",
    "\n",
    "![image](https://user-images.githubusercontent.com/16532326/149646156-da400ee9-e84c-41e9-adbe-eb495d7cf075.png)"
   ]
  },
  {
   "cell_type": "code",
   "execution_count": 1,
   "id": "93e098a0",
   "metadata": {},
   "outputs": [
    {
     "data": {
      "text/plain": [
       "'0.7.0'"
      ]
     },
     "execution_count": 1,
     "metadata": {},
     "output_type": "execute_result"
    }
   ],
   "source": [
    "import RPi.GPIO as GPIO\n",
    "import board\n",
    "import neopixel\n",
    "import math\n",
    "GPIO.VERSION"
   ]
  },
  {
   "cell_type": "code",
   "execution_count": 2,
   "id": "54f8c4fe",
   "metadata": {},
   "outputs": [],
   "source": [
    "NUMPIXELS = 30\n",
    "startPoint = 0"
   ]
  },
  {
   "cell_type": "code",
   "execution_count": 3,
   "id": "d8f49085",
   "metadata": {},
   "outputs": [],
   "source": [
    "GPIO.setwarnings(True)\n",
    "GPIO.setmode(GPIO.BCM) "
   ]
  },
  {
   "cell_type": "code",
   "execution_count": 4,
   "id": "07fcedea",
   "metadata": {},
   "outputs": [],
   "source": [
    "board.D4"
   ]
  },
  {
   "cell_type": "code",
   "execution_count": 5,
   "id": "41767a3b",
   "metadata": {},
   "outputs": [],
   "source": [
    "pixels = neopixel.NeoPixel(board.D18, NUMPIXELS)\n",
    "pixels"
   ]
  },
  {
   "cell_type": "code",
   "execution_count": 6,
   "id": "257bb5aa",
   "metadata": {},
   "outputs": [],
   "source": [
    "pixels[10] = (255, 0, 0)"
   ]
  },
  {
   "cell_type": "code",
   "execution_count": 7,
   "id": "0cd16348",
   "metadata": {},
   "outputs": [],
   "source": [
    "pixels.show()"
   ]
  },
  {
   "cell_type": "code",
   "execution_count": null,
   "id": "28d02d53",
   "metadata": {},
   "outputs": [],
   "source": [
    "for i in range(len(pixels)):\n",
    "    scalar = math.sin(math.radians(360 / NUMPIXELS * i + 360 / NUMPIXELS * startPoint)) * 0.5 + 0.5;\n",
    "    pixels[i] = (196 * scalar, 165 * scalar, 66 * scalar);"
   ]
  },
  {
   "cell_type": "code",
   "execution_count": null,
   "id": "403226cf",
   "metadata": {},
   "outputs": [],
   "source": [
    "pixels.show()"
   ]
  },
  {
   "cell_type": "code",
   "execution_count": null,
   "id": "57a0f84b",
   "metadata": {},
   "outputs": [],
   "source": [
    "!pip3 freeze > requirements.txt"
   ]
  }
 ],
 "metadata": {
  "kernelspec": {
   "display_name": "Python 3 (ipykernel)",
   "language": "python",
   "name": "python3"
  },
  "language_info": {
   "codemirror_mode": {
    "name": "ipython",
    "version": 3
   },
   "file_extension": ".py",
   "mimetype": "text/x-python",
   "name": "python",
   "nbconvert_exporter": "python",
   "pygments_lexer": "ipython3",
   "version": "3.9.2"
  }
 },
 "nbformat": 4,
 "nbformat_minor": 5
}
