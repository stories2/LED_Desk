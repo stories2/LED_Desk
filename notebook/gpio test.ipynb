{
 "cells": [
  {
   "cell_type": "markdown",
   "id": "c18cf217",
   "metadata": {},
   "source": [
    "# LED Control using GPIO\n",
    "\n",
    "![image](https://user-images.githubusercontent.com/16532326/149646156-da400ee9-e84c-41e9-adbe-eb495d7cf075.png)"
   ]
  },
  {
   "cell_type": "code",
   "execution_count": 7,
   "id": "93e098a0",
   "metadata": {},
   "outputs": [
    {
     "data": {
      "text/plain": [
       "'0.7.0'"
      ]
     },
     "execution_count": 7,
     "metadata": {},
     "output_type": "execute_result"
    }
   ],
   "source": [
    "import RPi.GPIO as GPIO\n",
    "import board\n",
    "import neopixel\n",
    "GPIO.VERSION"
   ]
  },
  {
   "cell_type": "code",
   "execution_count": 8,
   "id": "d8f49085",
   "metadata": {},
   "outputs": [],
   "source": [
    "channels = [4, 7, 8, 9, 10, 14, 15, 17, 18, 22, 23, 24, 25]\n",
    "\n",
    "GPIO.setwarnings(True)\n",
    "GPIO.cleanup(channels)\n",
    "GPIO.setmode(GPIO.BCM) \n",
    "GPIO.setup(channels, GPIO.OUT)\n",
    "GPIO.output(4, GPIO.HIGH)"
   ]
  },
  {
   "cell_type": "code",
   "execution_count": 9,
   "id": "4f5cdefd",
   "metadata": {},
   "outputs": [],
   "source": [
    "GPIO.setmode(GPIO.BCM)"
   ]
  },
  {
   "cell_type": "code",
   "execution_count": 10,
   "id": "07fcedea",
   "metadata": {},
   "outputs": [
    {
     "data": {
      "text/plain": [
       "4"
      ]
     },
     "execution_count": 10,
     "metadata": {},
     "output_type": "execute_result"
    }
   ],
   "source": [
    "board.D4"
   ]
  },
  {
   "cell_type": "code",
   "execution_count": 11,
   "id": "41767a3b",
   "metadata": {},
   "outputs": [
    {
     "data": {
      "text/plain": [
       "[[0, 0, 0], [0, 0, 0], [0, 0, 0], [0, 0, 0], [0, 0, 0], [0, 0, 0], [0, 0, 0], [0, 0, 0], [0, 0, 0], [0, 0, 0], [0, 0, 0], [0, 0, 0], [0, 0, 0], [0, 0, 0], [0, 0, 0], [0, 0, 0], [0, 0, 0], [0, 0, 0], [0, 0, 0], [0, 0, 0], [0, 0, 0], [0, 0, 0], [0, 0, 0], [0, 0, 0], [0, 0, 0], [0, 0, 0], [0, 0, 0], [0, 0, 0], [0, 0, 0], [0, 0, 0]]"
      ]
     },
     "execution_count": 11,
     "metadata": {},
     "output_type": "execute_result"
    }
   ],
   "source": [
    "pixels = neopixel.NeoPixel(board.D18, 30)\n",
    "pixels"
   ]
  },
  {
   "cell_type": "code",
   "execution_count": null,
   "id": "257bb5aa",
   "metadata": {},
   "outputs": [],
   "source": [
    "pixels[0] = (255, 0, 0)"
   ]
  },
  {
   "cell_type": "code",
   "execution_count": null,
   "id": "0cd16348",
   "metadata": {},
   "outputs": [],
   "source": [
    "pixels.show()"
   ]
  },
  {
   "cell_type": "code",
   "execution_count": 2,
   "id": "57a0f84b",
   "metadata": {},
   "outputs": [],
   "source": [
    "!pip3 freeze > requirements.txt"
   ]
  },
  {
   "cell_type": "code",
   "execution_count": null,
   "id": "42da9505",
   "metadata": {},
   "outputs": [],
   "source": [
    "ls -al /dev | grep mem*"
   ]
  },
  {
   "cell_type": "code",
   "execution_count": 4,
   "id": "6b55a937",
   "metadata": {},
   "outputs": [],
   "source": [
    "pixels = neopixel.NeoPixel(board.D22, 30)"
   ]
  },
  {
   "cell_type": "code",
   "execution_count": 5,
   "id": "5af3c52c",
   "metadata": {},
   "outputs": [
    {
     "name": "stderr",
     "output_type": "stream",
     "text": [
      "Gpio 22 is illegal for LED channel 0\n"
     ]
    },
    {
     "ename": "RuntimeError",
     "evalue": "ws2811_init failed with code -11 (Selected GPIO not possible)",
     "output_type": "error",
     "traceback": [
      "\u001b[0;31m---------------------------------------------------------------------------\u001b[0m",
      "\u001b[0;31mRuntimeError\u001b[0m                              Traceback (most recent call last)",
      "Input \u001b[0;32mIn [5]\u001b[0m, in \u001b[0;36m<module>\u001b[0;34m\u001b[0m\n\u001b[0;32m----> 1\u001b[0m pixels[\u001b[38;5;241m0\u001b[39m] \u001b[38;5;241m=\u001b[39m (\u001b[38;5;241m255\u001b[39m, \u001b[38;5;241m0\u001b[39m, \u001b[38;5;241m0\u001b[39m)\n",
      "File \u001b[0;32m/usr/local/lib/python3.9/site-packages/adafruit_pixelbuf.py:312\u001b[0m, in \u001b[0;36mPixelBuf.__setitem__\u001b[0;34m(self, index, val)\u001b[0m\n\u001b[1;32m    309\u001b[0m     \u001b[38;5;28mself\u001b[39m\u001b[38;5;241m.\u001b[39m_set_item(index, r, g, b, w)\n\u001b[1;32m    311\u001b[0m \u001b[38;5;28;01mif\u001b[39;00m \u001b[38;5;28mself\u001b[39m\u001b[38;5;241m.\u001b[39mauto_write:\n\u001b[0;32m--> 312\u001b[0m     \u001b[38;5;28;43mself\u001b[39;49m\u001b[38;5;241;43m.\u001b[39;49m\u001b[43mshow\u001b[49m\u001b[43m(\u001b[49m\u001b[43m)\u001b[49m\n",
      "File \u001b[0;32m/usr/local/lib/python3.9/site-packages/adafruit_pixelbuf.py:204\u001b[0m, in \u001b[0;36mPixelBuf.show\u001b[0;34m(self)\u001b[0m\n\u001b[1;32m    200\u001b[0m \u001b[38;5;28;01mdef\u001b[39;00m \u001b[38;5;21mshow\u001b[39m(\u001b[38;5;28mself\u001b[39m):\n\u001b[1;32m    201\u001b[0m     \u001b[38;5;124;03m\"\"\"\u001b[39;00m\n\u001b[1;32m    202\u001b[0m \u001b[38;5;124;03m    Call the associated write function to display the pixels\u001b[39;00m\n\u001b[1;32m    203\u001b[0m \u001b[38;5;124;03m    \"\"\"\u001b[39;00m\n\u001b[0;32m--> 204\u001b[0m     \u001b[38;5;28;01mreturn\u001b[39;00m \u001b[38;5;28;43mself\u001b[39;49m\u001b[38;5;241;43m.\u001b[39;49m\u001b[43m_transmit\u001b[49m\u001b[43m(\u001b[49m\u001b[38;5;28;43mself\u001b[39;49m\u001b[38;5;241;43m.\u001b[39;49m\u001b[43m_post_brightness_buffer\u001b[49m\u001b[43m)\u001b[49m\n",
      "File \u001b[0;32m/usr/local/lib/python3.9/site-packages/neopixel.py:188\u001b[0m, in \u001b[0;36mNeoPixel._transmit\u001b[0;34m(self, buffer)\u001b[0m\n\u001b[1;32m    187\u001b[0m \u001b[38;5;28;01mdef\u001b[39;00m \u001b[38;5;21m_transmit\u001b[39m(\u001b[38;5;28mself\u001b[39m, buffer: \u001b[38;5;28mbytearray\u001b[39m) \u001b[38;5;241m-\u001b[39m\u001b[38;5;241m>\u001b[39m \u001b[38;5;28;01mNone\u001b[39;00m:\n\u001b[0;32m--> 188\u001b[0m     \u001b[43mneopixel_write\u001b[49m\u001b[43m(\u001b[49m\u001b[38;5;28;43mself\u001b[39;49m\u001b[38;5;241;43m.\u001b[39;49m\u001b[43mpin\u001b[49m\u001b[43m,\u001b[49m\u001b[43m \u001b[49m\u001b[43mbuffer\u001b[49m\u001b[43m)\u001b[49m\n",
      "File \u001b[0;32m/usr/local/lib/python3.9/site-packages/neopixel_write.py:35\u001b[0m, in \u001b[0;36mneopixel_write\u001b[0;34m(gpio, buf)\u001b[0m\n\u001b[1;32m     33\u001b[0m \u001b[38;5;28;01mdef\u001b[39;00m \u001b[38;5;21mneopixel_write\u001b[39m(gpio, buf):\n\u001b[1;32m     34\u001b[0m     \u001b[38;5;124;03m\"\"\"Write buf out on the given DigitalInOut.\"\"\"\u001b[39;00m\n\u001b[0;32m---> 35\u001b[0m     \u001b[38;5;28;01mreturn\u001b[39;00m \u001b[43m_neopixel\u001b[49m\u001b[38;5;241;43m.\u001b[39;49m\u001b[43mneopixel_write\u001b[49m\u001b[43m(\u001b[49m\u001b[43mgpio\u001b[49m\u001b[43m,\u001b[49m\u001b[43m \u001b[49m\u001b[43mbuf\u001b[49m\u001b[43m)\u001b[49m\n",
      "File \u001b[0;32m/usr/local/lib/python3.9/site-packages/adafruit_blinka/microcontroller/bcm283x/neopixel.py:79\u001b[0m, in \u001b[0;36mneopixel_write\u001b[0;34m(gpio, buf)\u001b[0m\n\u001b[1;32m     75\u001b[0m             \u001b[38;5;28;01mraise\u001b[39;00m \u001b[38;5;167;01mRuntimeError\u001b[39;00m(\n\u001b[1;32m     76\u001b[0m                 \u001b[38;5;124m\"\u001b[39m\u001b[38;5;124mNeoPixel support requires running with sudo, please try again!\u001b[39m\u001b[38;5;124m\"\u001b[39m\n\u001b[1;32m     77\u001b[0m             )\n\u001b[1;32m     78\u001b[0m         message \u001b[38;5;241m=\u001b[39m ws\u001b[38;5;241m.\u001b[39mws2811_get_return_t_str(resp)\n\u001b[0;32m---> 79\u001b[0m         \u001b[38;5;28;01mraise\u001b[39;00m \u001b[38;5;167;01mRuntimeError\u001b[39;00m(\n\u001b[1;32m     80\u001b[0m             \u001b[38;5;124m\"\u001b[39m\u001b[38;5;124mws2811_init failed with code \u001b[39m\u001b[38;5;132;01m{0}\u001b[39;00m\u001b[38;5;124m (\u001b[39m\u001b[38;5;132;01m{1}\u001b[39;00m\u001b[38;5;124m)\u001b[39m\u001b[38;5;124m\"\u001b[39m\u001b[38;5;241m.\u001b[39mformat(resp, message)\n\u001b[1;32m     81\u001b[0m         )\n\u001b[1;32m     82\u001b[0m     atexit\u001b[38;5;241m.\u001b[39mregister(neopixel_cleanup)\n\u001b[1;32m     84\u001b[0m channel \u001b[38;5;241m=\u001b[39m ws\u001b[38;5;241m.\u001b[39mws2811_channel_get(_led_strip, LED_CHANNEL)\n",
      "\u001b[0;31mRuntimeError\u001b[0m: ws2811_init failed with code -11 (Selected GPIO not possible)"
     ]
    }
   ],
   "source": [
    "pixels[0] = (255, 0, 0)"
   ]
  },
  {
   "cell_type": "code",
   "execution_count": null,
   "id": "a2630a6b",
   "metadata": {},
   "outputs": [],
   "source": []
  }
 ],
 "metadata": {
  "kernelspec": {
   "display_name": "Python 3 (ipykernel)",
   "language": "python",
   "name": "python3"
  },
  "language_info": {
   "codemirror_mode": {
    "name": "ipython",
    "version": 3
   },
   "file_extension": ".py",
   "mimetype": "text/x-python",
   "name": "python",
   "nbconvert_exporter": "python",
   "pygments_lexer": "ipython3",
   "version": "3.9.2"
  }
 },
 "nbformat": 4,
 "nbformat_minor": 5
}
