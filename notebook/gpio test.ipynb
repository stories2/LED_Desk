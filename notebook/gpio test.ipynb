{
 "cells": [
  {
   "cell_type": "markdown",
   "id": "c18cf217",
   "metadata": {},
   "source": [
    "# LED Control using GPIO\n",
    "\n",
    "![image](https://user-images.githubusercontent.com/16532326/149646156-da400ee9-e84c-41e9-adbe-eb495d7cf075.png)"
   ]
  },
  {
   "cell_type": "code",
   "execution_count": 1,
   "id": "93e098a0",
   "metadata": {},
   "outputs": [
    {
     "data": {
      "text/plain": [
       "'0.7.0'"
      ]
     },
     "execution_count": 1,
     "metadata": {},
     "output_type": "execute_result"
    }
   ],
   "source": [
    "import RPi.GPIO as GPIO\n",
    "GPIO.VERSION"
   ]
  },
  {
   "cell_type": "code",
   "execution_count": 2,
   "id": "d8f49085",
   "metadata": {},
   "outputs": [
    {
     "name": "stderr",
     "output_type": "stream",
     "text": [
      "/tmp/ipykernel_28/1609612480.py:1: RuntimeWarning: No channels have been set up yet - nothing to clean up!  Try cleaning up at the end of your program instead!\n",
      "  GPIO.cleanup()\n"
     ]
    }
   ],
   "source": [
    "GPIO.cleanup()"
   ]
  },
  {
   "cell_type": "code",
   "execution_count": 3,
   "id": "4f5cdefd",
   "metadata": {},
   "outputs": [],
   "source": [
    "GPIO.setmode(GPIO.BCM)"
   ]
  },
  {
   "cell_type": "code",
   "execution_count": null,
   "id": "41767a3b",
   "metadata": {},
   "outputs": [],
   "source": []
  }
 ],
 "metadata": {
  "kernelspec": {
   "display_name": "Python 3 (ipykernel)",
   "language": "python",
   "name": "python3"
  },
  "language_info": {
   "codemirror_mode": {
    "name": "ipython",
    "version": 3
   },
   "file_extension": ".py",
   "mimetype": "text/x-python",
   "name": "python",
   "nbconvert_exporter": "python",
   "pygments_lexer": "ipython3",
   "version": "3.9.2"
  }
 },
 "nbformat": 4,
 "nbformat_minor": 5
}
